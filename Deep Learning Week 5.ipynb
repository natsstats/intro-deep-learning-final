{
 "cells": [
  {
   "cell_type": "markdown",
   "id": "a9a464fb-ff3e-4399-9710-285eb054de20",
   "metadata": {
    "tags": []
   },
   "source": [
    "## Final Project - Deep Learning & Neural Networks"
   ]
  },
  {
   "cell_type": "markdown",
   "id": "7384b354-cf6c-4230-92c8-aedd23d60a26",
   "metadata": {
    "tags": []
   },
   "source": [
    "### **Part A**"
   ]
  },
  {
   "cell_type": "markdown",
   "id": "ad8e053b-1a77-4ce3-9554-85a314c412a6",
   "metadata": {},
   "source": [
    "##### Use the Keras library to build a neural network"
   ]
  },
  {
   "cell_type": "code",
   "execution_count": 12,
   "id": "b7d0a9db-d674-4e45-9d6e-b2c1dfce3aa9",
   "metadata": {
    "tags": []
   },
   "outputs": [],
   "source": [
    "# Import needed libraries\n",
    "import pandas as pd\n",
    "import numpy as np\n",
    "import keras\n",
    "from keras.models import Sequential\n",
    "from keras.layers import Dense\n",
    "import sklearn\n",
    "from sklearn.model_selection import train_test_split"
   ]
  },
  {
   "cell_type": "code",
   "execution_count": 8,
   "id": "3e52c65c-8009-4049-89c0-a8606fa948b9",
   "metadata": {
    "tags": []
   },
   "outputs": [
    {
     "data": {
      "text/html": [
       "<div>\n",
       "<style scoped>\n",
       "    .dataframe tbody tr th:only-of-type {\n",
       "        vertical-align: middle;\n",
       "    }\n",
       "\n",
       "    .dataframe tbody tr th {\n",
       "        vertical-align: top;\n",
       "    }\n",
       "\n",
       "    .dataframe thead th {\n",
       "        text-align: right;\n",
       "    }\n",
       "</style>\n",
       "<table border=\"1\" class=\"dataframe\">\n",
       "  <thead>\n",
       "    <tr style=\"text-align: right;\">\n",
       "      <th></th>\n",
       "      <th>Cement</th>\n",
       "      <th>Blast Furnace Slag</th>\n",
       "      <th>Fly Ash</th>\n",
       "      <th>Water</th>\n",
       "      <th>Superplasticizer</th>\n",
       "      <th>Coarse Aggregate</th>\n",
       "      <th>Fine Aggregate</th>\n",
       "      <th>Age</th>\n",
       "      <th>Strength</th>\n",
       "    </tr>\n",
       "  </thead>\n",
       "  <tbody>\n",
       "    <tr>\n",
       "      <th>0</th>\n",
       "      <td>540.0</td>\n",
       "      <td>0.0</td>\n",
       "      <td>0.0</td>\n",
       "      <td>162.0</td>\n",
       "      <td>2.5</td>\n",
       "      <td>1040.0</td>\n",
       "      <td>676.0</td>\n",
       "      <td>28</td>\n",
       "      <td>79.99</td>\n",
       "    </tr>\n",
       "    <tr>\n",
       "      <th>1</th>\n",
       "      <td>540.0</td>\n",
       "      <td>0.0</td>\n",
       "      <td>0.0</td>\n",
       "      <td>162.0</td>\n",
       "      <td>2.5</td>\n",
       "      <td>1055.0</td>\n",
       "      <td>676.0</td>\n",
       "      <td>28</td>\n",
       "      <td>61.89</td>\n",
       "    </tr>\n",
       "    <tr>\n",
       "      <th>2</th>\n",
       "      <td>332.5</td>\n",
       "      <td>142.5</td>\n",
       "      <td>0.0</td>\n",
       "      <td>228.0</td>\n",
       "      <td>0.0</td>\n",
       "      <td>932.0</td>\n",
       "      <td>594.0</td>\n",
       "      <td>270</td>\n",
       "      <td>40.27</td>\n",
       "    </tr>\n",
       "    <tr>\n",
       "      <th>3</th>\n",
       "      <td>332.5</td>\n",
       "      <td>142.5</td>\n",
       "      <td>0.0</td>\n",
       "      <td>228.0</td>\n",
       "      <td>0.0</td>\n",
       "      <td>932.0</td>\n",
       "      <td>594.0</td>\n",
       "      <td>365</td>\n",
       "      <td>41.05</td>\n",
       "    </tr>\n",
       "    <tr>\n",
       "      <th>4</th>\n",
       "      <td>198.6</td>\n",
       "      <td>132.4</td>\n",
       "      <td>0.0</td>\n",
       "      <td>192.0</td>\n",
       "      <td>0.0</td>\n",
       "      <td>978.4</td>\n",
       "      <td>825.5</td>\n",
       "      <td>360</td>\n",
       "      <td>44.30</td>\n",
       "    </tr>\n",
       "  </tbody>\n",
       "</table>\n",
       "</div>"
      ],
      "text/plain": [
       "   Cement  Blast Furnace Slag  Fly Ash  Water  Superplasticizer  \\\n",
       "0   540.0                 0.0      0.0  162.0               2.5   \n",
       "1   540.0                 0.0      0.0  162.0               2.5   \n",
       "2   332.5               142.5      0.0  228.0               0.0   \n",
       "3   332.5               142.5      0.0  228.0               0.0   \n",
       "4   198.6               132.4      0.0  192.0               0.0   \n",
       "\n",
       "   Coarse Aggregate  Fine Aggregate  Age  Strength  \n",
       "0            1040.0           676.0   28     79.99  \n",
       "1            1055.0           676.0   28     61.89  \n",
       "2             932.0           594.0  270     40.27  \n",
       "3             932.0           594.0  365     41.05  \n",
       "4             978.4           825.5  360     44.30  "
      ]
     },
     "execution_count": 8,
     "metadata": {},
     "output_type": "execute_result"
    }
   ],
   "source": [
    "# Get the data\n",
    "concrete_data = pd.read_csv(\"https://s3-api.us-geo.objectstorage.softlayer.net/cf-courses-data/CognitiveClass/DL0101EN/labs/data/concrete_data.csv\")\n",
    "concrete_data.head()"
   ]
  },
  {
   "cell_type": "code",
   "execution_count": null,
   "id": "8063e98c-cb39-455c-90ef-5b5b5db866b3",
   "metadata": {
    "tags": []
   },
   "outputs": [],
   "source": [
    "# Split data into predictors and target\n",
    "concrete_data_columns = concrete_data.columns\n",
    "predictors = concrete_data[concrete_data_columns[concrete_data_columns != 'Strength']]\n",
    "target = concrete_data['Strength']\n",
    "n_cols = predictors.shape[1]"
   ]
  },
  {
   "cell_type": "code",
   "execution_count": null,
   "id": "1416b40a-bad7-4a8a-9653-392d92ff0fcc",
   "metadata": {},
   "outputs": [],
   "source": [
    "# Build the neural network by defining the regression model\n",
    "def regression_model_a():\n",
    "    model = Sequential()\n",
    "    model.add(Dense(10, activation='relu', input_shape=(n_cols,)))\n",
    "    model.add(Dense(1))\n",
    "    model.compile(optimizer='adam', loss='mean_squared_error')\n",
    "    return model"
   ]
  },
  {
   "cell_type": "code",
   "execution_count": null,
   "id": "60fa0512-8d3a-45b5-a814-b439c03025b6",
   "metadata": {},
   "outputs": [],
   "source": [
    "model_a = regression_model_a()"
   ]
  },
  {
   "cell_type": "markdown",
   "id": "13d8830a-2ec4-4c37-97d4-b6042fe229c0",
   "metadata": {},
   "source": [
    "1: Randomly split the data into training and testing sets by holding 30% of the data for testing. 2: Train the model on the training data using 50 epochs."
   ]
  },
  {
   "cell_type": "code",
   "execution_count": 11,
   "id": "c99678d0-9ed8-464c-8992-bf08ae74219c",
   "metadata": {
    "tags": []
   },
   "outputs": [],
   "source": [
    "# model_a.fit(predictors, target, validation_split=0.3, epochs=50, verbose=2)"
   ]
  },
  {
   "cell_type": "code",
   "execution_count": null,
   "id": "21f031ac-f056-47c0-88c6-e8b11832f19b",
   "metadata": {},
   "outputs": [],
   "source": [
    "# Split the data\n",
    "X_train, X_test, Y_train, Y_test = train_test_split(predictors, target, test_size=0.3)"
   ]
  },
  {
   "cell_type": "code",
   "execution_count": null,
   "id": "80ec45e4-dc71-4fcf-9b08-befb459891d8",
   "metadata": {},
   "outputs": [],
   "source": [
    "# Train the model\n",
    "model_a.fit(X_train, Y_train, validation_data=(X_test, Y_test), epochs=50, verbose=2)"
   ]
  },
  {
   "cell_type": "markdown",
   "id": "92444948-b62d-41b3-93d2-f6cb3728735f",
   "metadata": {},
   "source": [
    "3: Evaluate the model on the test data and compute the mean squared error between the predicted concrete strength and the actual concrete strength."
   ]
  },
  {
   "cell_type": "markdown",
   "id": "ef8c7804-b5ea-4519-bd84-3fa15c5b8185",
   "metadata": {},
   "source": [
    "score_a = model_a.evaluate(X_test, Y_test, verbose=0)"
   ]
  },
  {
   "cell_type": "markdown",
   "id": "7a6d10e4-21dc-4d8d-988c-022caac70ecc",
   "metadata": {},
   "source": [
    "4: Repeat steps 1-3 50 times (i.e., create a list of 50 mean squared errors.)"
   ]
  },
  {
   "cell_type": "code",
   "execution_count": null,
   "id": "be3bcb3a-f2af-4fbe-a973-cee18881721f",
   "metadata": {},
   "outputs": [],
   "source": [
    "mse_list_a = []\n",
    "for i in range (0,50):\n",
    "    X_train, X_test, Y_train, Y_test = train_test_split(predictors, target, test_size=0.3, random_state=i)\n",
    "    repeat_model = model_a.fit(X_train, Y_train, validation_data=(X_test, Y_test), epochs=50, verbose=2)\n",
    "    repeat_score = model_a.evaluate(X_test, Y_test, verbose=0)\n",
    "    mse_list_a.append(repeat_model)\n",
    "return mse_list_a"
   ]
  },
  {
   "cell_type": "markdown",
   "id": "29b15a78-b895-47a7-ad87-f642b99d7d61",
   "metadata": {},
   "source": [
    "What is the mean of the squared errors?"
   ]
  },
  {
   "cell_type": "code",
   "execution_count": null,
   "id": "a5792b10-445f-4eae-a98d-68c99f5142c8",
   "metadata": {},
   "outputs": [],
   "source": [
    "print(\"The mean of the squared errors is \" + str(mse_list_a.mean()))"
   ]
  },
  {
   "cell_type": "markdown",
   "id": "d57e9d9e-d5d8-41ba-9758-ba179a0d40f3",
   "metadata": {},
   "source": [
    "### **Part B**"
   ]
  },
  {
   "cell_type": "markdown",
   "id": "98a079e0-5a41-4d5d-8c58-3f98e765c64f",
   "metadata": {},
   "source": [
    "Repeat Part A but use a normalized version of the data."
   ]
  },
  {
   "cell_type": "code",
   "execution_count": null,
   "id": "624308ff-233b-46a0-b800-f0759e912e20",
   "metadata": {},
   "outputs": [],
   "source": [
    "# Normalize the data\n",
    "predictors_norm = (predictors - predictors.mean()) / predictors.std()\n",
    "norm_n_cols = predictors_norm.shape[1]"
   ]
  },
  {
   "cell_type": "code",
   "execution_count": null,
   "id": "2cb31282-0e3e-4881-99a4-90d73f87423e",
   "metadata": {},
   "outputs": [],
   "source": [
    "concrete_data_columns = concrete_data.columns\n",
    "predictors_norm = concrete_data[concrete_data_columns[concrete_data_columns != 'Strength']]\n",
    "target = concrete_data['Strength']\n",
    "n_cols = predictors_norm.shape[1]"
   ]
  },
  {
   "cell_type": "code",
   "execution_count": null,
   "id": "c2ee3818-5ad9-427d-92a0-525340873eb5",
   "metadata": {},
   "outputs": [],
   "source": [
    "def regression_model_b():\n",
    "    model = Sequential()\n",
    "    model.add(Dense(10, activation='relu', input_shape=(n_cols,)))\n",
    "    model.add(Dense(1))\n",
    "    model.compile(optimizer='adam', loss='mean_squared_error')\n",
    "    return model"
   ]
  },
  {
   "cell_type": "code",
   "execution_count": null,
   "id": "3102a127-0295-400c-b319-50f60d85996c",
   "metadata": {},
   "outputs": [],
   "source": [
    "model_b = regression_model_b()"
   ]
  },
  {
   "cell_type": "code",
   "execution_count": null,
   "id": "dcf7735f-d7cf-4ad7-86a2-a67586312473",
   "metadata": {},
   "outputs": [],
   "source": [
    "# Split the data\n",
    "X_train, X_test, Y_train, Y_test = train_test_split(predictors_norm, target, test_size=0.3)\n",
    "# Train the model\n",
    "model_b.fit(X_train, Y_train, validation_data=(X_test, Y_test), epochs=50, verbose=2)"
   ]
  },
  {
   "cell_type": "code",
   "execution_count": null,
   "id": "26664b24-75e6-49f6-aa81-793963ee060e",
   "metadata": {},
   "outputs": [],
   "source": [
    "score_b = model_b.evaluate(X_test, Y_test, verbose=0)"
   ]
  },
  {
   "cell_type": "code",
   "execution_count": null,
   "id": "761fca6d-f222-40b7-a9f3-9d4d1318ff85",
   "metadata": {},
   "outputs": [],
   "source": [
    "mse_list_b = []\n",
    "for i in range (0,50):\n",
    "    X_train, X_test, Y_train, Y_test = train_test_split(predictors_norm, target, test_size=0.3, random_state=i)\n",
    "    repeat_model = model_b.fit(X_train, Y_train, validation_data=(X_test, Y_test), epochs=50, verbose=2)\n",
    "    repeat_score = model_b.evaluate(X_test, Y_test, verbose=0)\n",
    "    mse_list_b.append(repeat_model)\n",
    "return mse_list_b"
   ]
  },
  {
   "cell_type": "markdown",
   "id": "96797ace-3fbb-41b1-a609-fc0c271e6f7a",
   "metadata": {},
   "source": [
    "What is the mean of the squared errors?"
   ]
  },
  {
   "cell_type": "code",
   "execution_count": null,
   "id": "52bc0b9c-662c-44f3-a282-4f9ccf6fd15a",
   "metadata": {},
   "outputs": [],
   "source": [
    "print(\"The mean of the squared errors is \" + str(mse_list_b.mean()))"
   ]
  },
  {
   "cell_type": "markdown",
   "id": "33affa08-e78b-45cf-9738-4e749eaa3a58",
   "metadata": {},
   "source": [
    "### **Part C**"
   ]
  },
  {
   "cell_type": "markdown",
   "id": "88e54205-25e4-4c7c-9abb-d6e3929a1d80",
   "metadata": {},
   "source": [
    "Repeat Part B but use 100 epochs this time for training."
   ]
  },
  {
   "cell_type": "code",
   "execution_count": null,
   "id": "b87354ae-90c1-4e29-96f6-67bd17f13b58",
   "metadata": {},
   "outputs": [],
   "source": [
    "model_c = regression_model_b()\n",
    "\n",
    "# Split the data\n",
    "X_train, X_test, Y_train, Y_test = train_test_split(predictors_norm, target, test_size=0.3)\n",
    "# Train the model\n",
    "model_b.fit(X_train, Y_train, validation_data=(X_test, Y_test), epochs=100, verbose=2)\n",
    "# Evaluate the model\n",
    "score_c = model_c.evaluate(X_test, Y_test, verbose=0)"
   ]
  },
  {
   "cell_type": "code",
   "execution_count": null,
   "id": "d6344a92-3c68-496d-991e-6b4033836225",
   "metadata": {},
   "outputs": [],
   "source": [
    "mse_list_c = []\n",
    "for i in range (0,50):\n",
    "    X_train, X_test, Y_train, Y_test = train_test_split(predictors_norm, target, test_size=0.3, random_state=i)\n",
    "    repeat_model = model_c.fit(X_train, Y_train, validation_data=(X_test, Y_test), epochs=100, verbose=2)\n",
    "    repeat_score = model_c.evaluate(X_test, Y_test, verbose=0)\n",
    "    mse_list_c.append(repeat_model)\n",
    "return mse_list_c"
   ]
  },
  {
   "cell_type": "markdown",
   "id": "d39917d9-fb6d-4782-94ce-d3b5362db3b3",
   "metadata": {},
   "source": [
    "What is the mean of the squared errors?"
   ]
  },
  {
   "cell_type": "code",
   "execution_count": 13,
   "id": "c17f64a4-96d4-42cb-b704-0af9dde2599c",
   "metadata": {
    "collapsed": true,
    "jupyter": {
     "outputs_hidden": true
    },
    "tags": []
   },
   "outputs": [
    {
     "ename": "NameError",
     "evalue": "name 'mse_list_c' is not defined",
     "output_type": "error",
     "traceback": [
      "\u001b[0;31m---------------------------------------------------------------------------\u001b[0m",
      "\u001b[0;31mNameError\u001b[0m                                 Traceback (most recent call last)",
      "\u001b[0;32m/tmp/ipykernel_371/3729738297.py\u001b[0m in \u001b[0;36m<module>\u001b[0;34m\u001b[0m\n\u001b[0;32m----> 1\u001b[0;31m \u001b[0mprint\u001b[0m\u001b[0;34m(\u001b[0m\u001b[0;34m\"The mean of the squared errors is \"\u001b[0m \u001b[0;34m+\u001b[0m \u001b[0mstr\u001b[0m\u001b[0;34m(\u001b[0m\u001b[0mmse_list_c\u001b[0m\u001b[0;34m.\u001b[0m\u001b[0mmean\u001b[0m\u001b[0;34m(\u001b[0m\u001b[0;34m)\u001b[0m\u001b[0;34m)\u001b[0m\u001b[0;34m)\u001b[0m\u001b[0;34m\u001b[0m\u001b[0;34m\u001b[0m\u001b[0m\n\u001b[0m",
      "\u001b[0;31mNameError\u001b[0m: name 'mse_list_c' is not defined"
     ]
    }
   ],
   "source": [
    "print(\"The mean of the squared errors is \" + str(mse_list_c.mean()))"
   ]
  },
  {
   "cell_type": "markdown",
   "id": "7a0f016a-a89f-41f6-b834-16ef9bcd00aa",
   "metadata": {},
   "source": [
    "### **Part D**"
   ]
  },
  {
   "cell_type": "markdown",
   "id": "5a774a64-6b78-4763-b668-7813d6da19c8",
   "metadata": {},
   "source": [
    "Repeat Par B but use a neural network with the following instead: 3 hidden layers, each of 10 nodes and ReLU activation function."
   ]
  },
  {
   "cell_type": "code",
   "execution_count": null,
   "id": "5f7d9ce2-832e-457a-a015-994c99530406",
   "metadata": {},
   "outputs": [],
   "source": [
    "# Build the neural network by defining the regression model\n",
    "def regression_model_d():\n",
    "    model = Sequential()\n",
    "    model.add(Dense(10, activation='relu', input_shape=(n_cols,)))\n",
    "    model.add(Dense(10, activation=\"relu\"))\n",
    "    model.add(Dense(10, activation=\"relu\"))\n",
    "    model.add(Dense(1))\n",
    "    model.compile(optimizer='adam', loss='mean_squared_error')\n",
    "    return model"
   ]
  },
  {
   "cell_type": "code",
   "execution_count": null,
   "id": "3eba14d5-59fa-4ad8-a685-591786c6fc3b",
   "metadata": {},
   "outputs": [],
   "source": [
    "model_d = regression_model_d()\n",
    "\n",
    "# Split the data\n",
    "X_train, X_test, Y_train, Y_test = train_test_split(predictors_norm, target, test_size=0.3)\n",
    "# Train the model\n",
    "model_d.fit(X_train, Y_train, validation_data=(X_test, Y_test), epochs=50, verbose=2)\n",
    "# Evaluate the model\n",
    "score_d = model_d.evaluate(X_test, Y_test, verbose=0)"
   ]
  },
  {
   "cell_type": "code",
   "execution_count": null,
   "id": "d8354559-d05c-4d4b-b676-f167505eec2f",
   "metadata": {},
   "outputs": [],
   "source": [
    "mse_list_d = []\n",
    "for i in range (0,50):\n",
    "    X_train, X_test, Y_train, Y_test = train_test_split(predictors_norm, target, test_size=0.3, random_state=i)\n",
    "    repeat_model = model_d.fit(X_train, Y_train, validation_data=(X_test, Y_test), epochs=50, verbose=2)\n",
    "    repeat_score = model_d.evaluate(X_test, Y_test, verbose=0)\n",
    "    mse_list_d.append(repeat_model)\n",
    "return mse_list_d"
   ]
  },
  {
   "cell_type": "markdown",
   "id": "9a9e9400-65f3-4f1a-8cdd-015f2e4b83b8",
   "metadata": {},
   "source": [
    "What is the mean of the squared errors?"
   ]
  },
  {
   "cell_type": "code",
   "execution_count": null,
   "id": "fee0c3bc-9a71-49d1-9fb5-b3563980bac6",
   "metadata": {},
   "outputs": [],
   "source": [
    "print(\"The mean of the squared errors is \" + str(mse_list_d.mean()))"
   ]
  }
 ],
 "metadata": {
  "kernelspec": {
   "display_name": "Python 3 (ipykernel)",
   "language": "python",
   "name": "python3"
  },
  "language_info": {
   "codemirror_mode": {
    "name": "ipython",
    "version": 3
   },
   "file_extension": ".py",
   "mimetype": "text/x-python",
   "name": "python",
   "nbconvert_exporter": "python",
   "pygments_lexer": "ipython3",
   "version": "3.11.5"
  }
 },
 "nbformat": 4,
 "nbformat_minor": 5
}
